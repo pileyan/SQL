{
 "cells": [
  {
   "cell_type": "code",
   "execution_count": 46,
   "metadata": {},
   "outputs": [],
   "source": [
    "# !pip install pandahouse"
   ]
  },
  {
   "cell_type": "code",
   "execution_count": 69,
   "metadata": {},
   "outputs": [],
   "source": [
    "import pandasql as ps\n",
    "import pandahouse as ph\n",
    "from hashlib import md5\n",
    "import pandas as pd"
   ]
  },
  {
   "cell_type": "code",
   "execution_count": 47,
   "metadata": {},
   "outputs": [],
   "source": [
    "connection = {'host': 'https://clickhouse.lab.karpov.courses/',\n",
    "              'user': '',\n",
    "              'password': ''}\n"
   ]
  },
  {
   "cell_type": "code",
   "execution_count": 27,
   "metadata": {},
   "outputs": [],
   "source": [
    "def get_hash(x: str):\n",
    "    return int(md5(x.encode('ascii')).hexdigest(), 16)"
   ]
  },
  {
   "cell_type": "code",
   "execution_count": 28,
   "metadata": {},
   "outputs": [
    {
     "data": {
      "text/plain": [
       "138337153163266979338946680060690773084"
      ]
     },
     "execution_count": 28,
     "metadata": {},
     "output_type": "execute_result"
    }
   ],
   "source": [
    "get_hash('gfdhdsdjk')"
   ]
  },
  {
   "cell_type": "code",
   "execution_count": 65,
   "metadata": {},
   "outputs": [],
   "source": [
    "query = '''\n",
    "select *\n",
    "from default.installs\n",
    "where Source in ('Source_9', 'Source_10', 'Source_11')\n",
    "'''\n",
    "df = ph.read_clickhouse(query, connection = connection)"
   ]
  },
  {
   "cell_type": "code",
   "execution_count": 66,
   "metadata": {
    "scrolled": true
   },
   "outputs": [
    {
     "data": {
      "text/html": [
       "<div>\n",
       "<style scoped>\n",
       "    .dataframe tbody tr th:only-of-type {\n",
       "        vertical-align: middle;\n",
       "    }\n",
       "\n",
       "    .dataframe tbody tr th {\n",
       "        vertical-align: top;\n",
       "    }\n",
       "\n",
       "    .dataframe thead th {\n",
       "        text-align: right;\n",
       "    }\n",
       "</style>\n",
       "<table border=\"1\" class=\"dataframe\">\n",
       "  <thead>\n",
       "    <tr style=\"text-align: right;\">\n",
       "      <th></th>\n",
       "      <th>InstallationDate</th>\n",
       "      <th>InstallCost</th>\n",
       "      <th>Platform</th>\n",
       "      <th>DeviceID</th>\n",
       "      <th>Source</th>\n",
       "    </tr>\n",
       "  </thead>\n",
       "  <tbody>\n",
       "    <tr>\n",
       "      <th>0</th>\n",
       "      <td>2019-05-24</td>\n",
       "      <td>276</td>\n",
       "      <td>android</td>\n",
       "      <td>3275981320170642340</td>\n",
       "      <td>Source_9</td>\n",
       "    </tr>\n",
       "    <tr>\n",
       "      <th>1</th>\n",
       "      <td>2019-09-19</td>\n",
       "      <td>322</td>\n",
       "      <td>android</td>\n",
       "      <td>6429599748139962965</td>\n",
       "      <td>Source_9</td>\n",
       "    </tr>\n",
       "    <tr>\n",
       "      <th>2</th>\n",
       "      <td>2019-01-06</td>\n",
       "      <td>98</td>\n",
       "      <td>android</td>\n",
       "      <td>531140942139788876</td>\n",
       "      <td>Source_9</td>\n",
       "    </tr>\n",
       "    <tr>\n",
       "      <th>3</th>\n",
       "      <td>2019-04-19</td>\n",
       "      <td>326</td>\n",
       "      <td>android</td>\n",
       "      <td>2103557350163571622</td>\n",
       "      <td>Source_9</td>\n",
       "    </tr>\n",
       "    <tr>\n",
       "      <th>4</th>\n",
       "      <td>2019-03-23</td>\n",
       "      <td>222</td>\n",
       "      <td>android</td>\n",
       "      <td>1407523416992072760</td>\n",
       "      <td>Source_9</td>\n",
       "    </tr>\n",
       "  </tbody>\n",
       "</table>\n",
       "</div>"
      ],
      "text/plain": [
       "  InstallationDate  InstallCost Platform             DeviceID    Source\n",
       "0       2019-05-24          276  android  3275981320170642340  Source_9\n",
       "1       2019-09-19          322  android  6429599748139962965  Source_9\n",
       "2       2019-01-06           98  android   531140942139788876  Source_9\n",
       "3       2019-04-19          326  android  2103557350163571622  Source_9\n",
       "4       2019-03-23          222  android  1407523416992072760  Source_9"
      ]
     },
     "execution_count": 66,
     "metadata": {},
     "output_type": "execute_result"
    }
   ],
   "source": [
    "df.head()"
   ]
  },
  {
   "cell_type": "code",
   "execution_count": 67,
   "metadata": {},
   "outputs": [
    {
     "data": {
      "text/html": [
       "<div>\n",
       "<style scoped>\n",
       "    .dataframe tbody tr th:only-of-type {\n",
       "        vertical-align: middle;\n",
       "    }\n",
       "\n",
       "    .dataframe tbody tr th {\n",
       "        vertical-align: top;\n",
       "    }\n",
       "\n",
       "    .dataframe thead th {\n",
       "        text-align: right;\n",
       "    }\n",
       "</style>\n",
       "<table border=\"1\" class=\"dataframe\">\n",
       "  <thead>\n",
       "    <tr style=\"text-align: right;\">\n",
       "      <th></th>\n",
       "      <th>Platform</th>\n",
       "      <th>DeviceID</th>\n",
       "    </tr>\n",
       "  </thead>\n",
       "  <tbody>\n",
       "    <tr>\n",
       "      <th>0</th>\n",
       "      <td>android</td>\n",
       "      <td>2409867</td>\n",
       "    </tr>\n",
       "    <tr>\n",
       "      <th>1</th>\n",
       "      <td>iOS</td>\n",
       "      <td>273086</td>\n",
       "    </tr>\n",
       "  </tbody>\n",
       "</table>\n",
       "</div>"
      ],
      "text/plain": [
       "  Platform  DeviceID\n",
       "0  android   2409867\n",
       "1      iOS    273086"
      ]
     },
     "execution_count": 67,
     "metadata": {},
     "output_type": "execute_result"
    }
   ],
   "source": [
    "df\\\n",
    ".groupby('Platform')['DeviceID']\\\n",
    ".nunique()\\\n",
    ".reset_index()\\\n",
    ".sort_values(by = 'DeviceID', ascending = False)"
   ]
  },
  {
   "cell_type": "code",
   "execution_count": 68,
   "metadata": {
    "scrolled": true
   },
   "outputs": [
    {
     "data": {
      "text/html": [
       "<div>\n",
       "<style scoped>\n",
       "    .dataframe tbody tr th:only-of-type {\n",
       "        vertical-align: middle;\n",
       "    }\n",
       "\n",
       "    .dataframe tbody tr th {\n",
       "        vertical-align: top;\n",
       "    }\n",
       "\n",
       "    .dataframe thead th {\n",
       "        text-align: right;\n",
       "    }\n",
       "</style>\n",
       "<table border=\"1\" class=\"dataframe\">\n",
       "  <thead>\n",
       "    <tr style=\"text-align: right;\">\n",
       "      <th></th>\n",
       "      <th>Platform</th>\n",
       "      <th>cnt</th>\n",
       "    </tr>\n",
       "  </thead>\n",
       "  <tbody>\n",
       "    <tr>\n",
       "      <th>0</th>\n",
       "      <td>android</td>\n",
       "      <td>2409867</td>\n",
       "    </tr>\n",
       "    <tr>\n",
       "      <th>1</th>\n",
       "      <td>iOS</td>\n",
       "      <td>273086</td>\n",
       "    </tr>\n",
       "  </tbody>\n",
       "</table>\n",
       "</div>"
      ],
      "text/plain": [
       "  Platform      cnt\n",
       "0  android  2409867\n",
       "1      iOS   273086"
      ]
     },
     "execution_count": 68,
     "metadata": {},
     "output_type": "execute_result"
    }
   ],
   "source": [
    "query = '''\n",
    "select Platform, count(distinct DeviceID) as cnt\n",
    "from (select *\n",
    "    from default.installs\n",
    "    where Source in ('Source_9', 'Source_10', 'Source_11'))\n",
    "group by Platform\n",
    "order by cnt desc\n",
    "'''\n",
    "ph.read_clickhouse(query, connection = connection)"
   ]
  },
  {
   "cell_type": "code",
   "execution_count": 74,
   "metadata": {},
   "outputs": [],
   "source": [
    "houses = pd.read_csv('/Users/i.pile/Downloads/train-2.csv')"
   ]
  },
  {
   "cell_type": "code",
   "execution_count": 81,
   "metadata": {},
   "outputs": [
    {
     "data": {
      "text/html": [
       "<div>\n",
       "<style scoped>\n",
       "    .dataframe tbody tr th:only-of-type {\n",
       "        vertical-align: middle;\n",
       "    }\n",
       "\n",
       "    .dataframe tbody tr th {\n",
       "        vertical-align: top;\n",
       "    }\n",
       "\n",
       "    .dataframe thead th {\n",
       "        text-align: right;\n",
       "    }\n",
       "</style>\n",
       "<table border=\"1\" class=\"dataframe\">\n",
       "  <thead>\n",
       "    <tr style=\"text-align: right;\">\n",
       "      <th></th>\n",
       "      <th>Street</th>\n",
       "      <th>SalePrice</th>\n",
       "    </tr>\n",
       "  </thead>\n",
       "  <tbody>\n",
       "    <tr>\n",
       "      <th>0</th>\n",
       "      <td>Grvl</td>\n",
       "      <td>130190.500000</td>\n",
       "    </tr>\n",
       "    <tr>\n",
       "      <th>1</th>\n",
       "      <td>Pave</td>\n",
       "      <td>181130.538514</td>\n",
       "    </tr>\n",
       "  </tbody>\n",
       "</table>\n",
       "</div>"
      ],
      "text/plain": [
       "  Street      SalePrice\n",
       "0   Grvl  130190.500000\n",
       "1   Pave  181130.538514"
      ]
     },
     "execution_count": 81,
     "metadata": {},
     "output_type": "execute_result"
    }
   ],
   "source": [
    "houses.groupby('Street')['SalePrice'].mean().reset_index()"
   ]
  },
  {
   "cell_type": "code",
   "execution_count": 82,
   "metadata": {},
   "outputs": [
    {
     "data": {
      "text/html": [
       "<div>\n",
       "<style scoped>\n",
       "    .dataframe tbody tr th:only-of-type {\n",
       "        vertical-align: middle;\n",
       "    }\n",
       "\n",
       "    .dataframe tbody tr th {\n",
       "        vertical-align: top;\n",
       "    }\n",
       "\n",
       "    .dataframe thead th {\n",
       "        text-align: right;\n",
       "    }\n",
       "</style>\n",
       "<table border=\"1\" class=\"dataframe\">\n",
       "  <thead>\n",
       "    <tr style=\"text-align: right;\">\n",
       "      <th></th>\n",
       "      <th>Street</th>\n",
       "      <th>SalePrice</th>\n",
       "    </tr>\n",
       "  </thead>\n",
       "  <tbody>\n",
       "    <tr>\n",
       "      <th>0</th>\n",
       "      <td>Grvl</td>\n",
       "      <td>130190.500000</td>\n",
       "    </tr>\n",
       "    <tr>\n",
       "      <th>1</th>\n",
       "      <td>Pave</td>\n",
       "      <td>181130.538514</td>\n",
       "    </tr>\n",
       "  </tbody>\n",
       "</table>\n",
       "</div>"
      ],
      "text/plain": [
       "  Street      SalePrice\n",
       "0   Grvl  130190.500000\n",
       "1   Pave  181130.538514"
      ]
     },
     "execution_count": 82,
     "metadata": {},
     "output_type": "execute_result"
    }
   ],
   "source": [
    "simple_query = '''\n",
    "select Street, avg(SalePrice) as SalePrice\n",
    "from houses\n",
    "group by Street\n",
    "'''\n",
    "\n",
    "ps.sqldf(simple_query, locals())"
   ]
  },
  {
   "cell_type": "code",
   "execution_count": 84,
   "metadata": {},
   "outputs": [
    {
     "data": {
      "text/html": [
       "<div>\n",
       "<style scoped>\n",
       "    .dataframe tbody tr th:only-of-type {\n",
       "        vertical-align: middle;\n",
       "    }\n",
       "\n",
       "    .dataframe tbody tr th {\n",
       "        vertical-align: top;\n",
       "    }\n",
       "\n",
       "    .dataframe thead th {\n",
       "        text-align: right;\n",
       "    }\n",
       "</style>\n",
       "<table border=\"1\" class=\"dataframe\">\n",
       "  <thead>\n",
       "    <tr style=\"text-align: right;\">\n",
       "      <th></th>\n",
       "      <th>city</th>\n",
       "      <th>verified</th>\n",
       "      <th>not_verified</th>\n",
       "    </tr>\n",
       "  </thead>\n",
       "  <tbody>\n",
       "    <tr>\n",
       "      <th>0</th>\n",
       "      <td></td>\n",
       "      <td>3</td>\n",
       "      <td>2</td>\n",
       "    </tr>\n",
       "    <tr>\n",
       "      <th>1</th>\n",
       "      <td>柏林</td>\n",
       "      <td>0</td>\n",
       "      <td>1</td>\n",
       "    </tr>\n",
       "    <tr>\n",
       "      <th>2</th>\n",
       "      <td>Berlín</td>\n",
       "      <td>2</td>\n",
       "      <td>0</td>\n",
       "    </tr>\n",
       "    <tr>\n",
       "      <th>3</th>\n",
       "      <td>.</td>\n",
       "      <td>12</td>\n",
       "      <td>0</td>\n",
       "    </tr>\n",
       "    <tr>\n",
       "      <th>4</th>\n",
       "      <td>Mitte</td>\n",
       "      <td>0</td>\n",
       "      <td>8</td>\n",
       "    </tr>\n",
       "    <tr>\n",
       "      <th>...</th>\n",
       "      <td>...</td>\n",
       "      <td>...</td>\n",
       "      <td>...</td>\n",
       "    </tr>\n",
       "    <tr>\n",
       "      <th>56</th>\n",
       "      <td>Berlin (Kreuzberg)</td>\n",
       "      <td>1</td>\n",
       "      <td>0</td>\n",
       "    </tr>\n",
       "    <tr>\n",
       "      <th>57</th>\n",
       "      <td>Berlin-Rudow (Neukölln)</td>\n",
       "      <td>1</td>\n",
       "      <td>0</td>\n",
       "    </tr>\n",
       "    <tr>\n",
       "      <th>58</th>\n",
       "      <td>Baseler Straße 91 A,12205 Berlin</td>\n",
       "      <td>0</td>\n",
       "      <td>1</td>\n",
       "    </tr>\n",
       "    <tr>\n",
       "      <th>59</th>\n",
       "      <td>Baseler Straße 91 A, 12205 Berlin</td>\n",
       "      <td>0</td>\n",
       "      <td>1</td>\n",
       "    </tr>\n",
       "    <tr>\n",
       "      <th>60</th>\n",
       "      <td>SavignyPlatz (Charlottenburg)</td>\n",
       "      <td>1</td>\n",
       "      <td>0</td>\n",
       "    </tr>\n",
       "  </tbody>\n",
       "</table>\n",
       "<p>61 rows × 3 columns</p>\n",
       "</div>"
      ],
      "text/plain": [
       "                                  city  verified  not_verified\n",
       "0                                              3             2\n",
       "1                                   柏林         0             1\n",
       "2                               Berlín         2             0\n",
       "3                                    .        12             0\n",
       "4                                Mitte         0             8\n",
       "..                                 ...       ...           ...\n",
       "56                  Berlin (Kreuzberg)         1             0\n",
       "57             Berlin-Rudow (Neukölln)         1             0\n",
       "58    Baseler Straße 91 A,12205 Berlin         0             1\n",
       "59  Baseler Straße 91 A, 12205 Berlin          0             1\n",
       "60       SavignyPlatz (Charlottenburg)         1             0\n",
       "\n",
       "[61 rows x 3 columns]"
      ]
     },
     "execution_count": 84,
     "metadata": {},
     "output_type": "execute_result"
    }
   ],
   "source": [
    "q = '''\n",
    "select city,\n",
    "    uniqExactIf(id, host_identity_verified = 't') as verified,\n",
    "    uniqExactIf(id, host_identity_verified != 't') as not_verified\n",
    "    \n",
    "from default.listings\n",
    "group by city\n",
    "'''\n",
    "ph.read_clickhouse(q, connection = connection)"
   ]
  },
  {
   "cell_type": "code",
   "execution_count": 37,
   "metadata": {},
   "outputs": [
    {
     "data": {
      "text/plain": [
       "True"
      ]
     },
     "execution_count": 37,
     "metadata": {},
     "output_type": "execute_result"
    }
   ],
   "source": [
    "'1ghjafsk' > '!56217'"
   ]
  },
  {
   "cell_type": "code",
   "execution_count": 39,
   "metadata": {},
   "outputs": [
    {
     "data": {
      "text/plain": [
       "True"
      ]
     },
     "execution_count": 39,
     "metadata": {},
     "output_type": "execute_result"
    }
   ],
   "source": [
    "'Ö'>'o'"
   ]
  },
  {
   "cell_type": "code",
   "execution_count": null,
   "metadata": {},
   "outputs": [],
   "source": [
    "'''\n",
    "select count(distinct  InvoiceNo ) as invoices,\n",
    "    count(distinct   CustomerID  ) as customers,\n",
    "    invoices/customers as invoices_per_customer\n",
    "from default.retail\n",
    "where toDate(InvoiceDate) between '2011-02-01' and '2011-02-28'\n",
    "'''"
   ]
  },
  {
   "cell_type": "code",
   "execution_count": 40,
   "metadata": {},
   "outputs": [
    {
     "data": {
      "text/plain": [
       "True"
      ]
     },
     "execution_count": 40,
     "metadata": {},
     "output_type": "execute_result"
    }
   ],
   "source": [
    "'''\n",
    "select *\n",
    "from default.retail\n",
    "where  InvoiceNo not in ('542776', '542777')\n",
    "limit 100\n",
    "'''"
   ]
  },
  {
   "cell_type": "code",
   "execution_count": null,
   "metadata": {},
   "outputs": [],
   "source": [
    "'''\n",
    "select count(distinct ceil(UnitPrice))\n",
    "from default.retail\n",
    "where lower(Description) like '%babushka%boxes%'\n",
    "'''"
   ]
  },
  {
   "cell_type": "code",
   "execution_count": null,
   "metadata": {},
   "outputs": [],
   "source": [
    "'''\n",
    "select lower(upper('fghdjkagdr'))\n",
    "'''"
   ]
  },
  {
   "cell_type": "code",
   "execution_count": null,
   "metadata": {},
   "outputs": [],
   "source": [
    "'''\n",
    "select InvoiceNo, \n",
    "    count() as cnt\n",
    "from default.retail\n",
    "where lower(Description) like '%babushka%boxes%'\n",
    "group by InvoiceNo\n",
    "having cnt > 1\n",
    "'''"
   ]
  },
  {
   "cell_type": "code",
   "execution_count": null,
   "metadata": {},
   "outputs": [],
   "source": [
    "'''\n",
    "select CustomerID,\n",
    "    toDate(min( InvoiceDate )) min_dt,\n",
    "    toDate(max( InvoiceDate )) max_dt,\n",
    "    count(distinct  InvoiceNo ) as invoices,\n",
    "    max_dt - min_dt as diff_days,\n",
    "    invoices/diff_days as invoices_per_day,\n",
    "    dateDiff('month', min_dt, max_dt) as diff_months,\n",
    "    invoices/diff_months as invoices_per_month\n",
    "    \n",
    "from default.retail\n",
    "where CustomerID in ('17850','14505')\n",
    "group by CustomerID\n",
    "'''"
   ]
  },
  {
   "cell_type": "code",
   "execution_count": 42,
   "metadata": {},
   "outputs": [
    {
     "data": {
      "text/plain": [
       "'grehaj'"
      ]
     },
     "execution_count": 42,
     "metadata": {},
     "output_type": "execute_result"
    }
   ],
   "source": [
    "'grehaj'.upper().lower()"
   ]
  },
  {
   "cell_type": "code",
   "execution_count": 44,
   "metadata": {},
   "outputs": [
    {
     "data": {
      "text/plain": [
       "'54632700'"
      ]
     },
     "execution_count": 44,
     "metadata": {},
     "output_type": "execute_result"
    }
   ],
   "source": [
    "a = '546327'\n",
    "\n",
    "str(int(a)*100)"
   ]
  },
  {
   "cell_type": "code",
   "execution_count": null,
   "metadata": {},
   "outputs": [],
   "source": [
    "'''\n",
    "select purchase_date, sum(price*quantity) as my_sum\n",
    "from project_variant_2.purchase\n",
    "where category_id = 3\n",
    "    and price between 100 and 300\n",
    "group by purchase_date\n",
    "having my_sum > 3000\n",
    "'''"
   ]
  },
  {
   "cell_type": "code",
   "execution_count": null,
   "metadata": {},
   "outputs": [],
   "source": [
    "'''\n",
    "with price*quantity as f\n",
    "\n",
    "select toStartOfMonth(purchase_date) as month, \n",
    "    sum(f) as total_price,\n",
    "    count() as cnt,\n",
    "    avg(f) as avg_price,\n",
    "    stddevPop(f) as std_dev_price,\n",
    "    min(f) as min_price,\n",
    "    max(f) as max_price\n",
    "from project_variant_2.purchase\n",
    "where purchase_date between '2020-01-01' and '2020-06-30'\n",
    "group by month\n",
    "'''"
   ]
  },
  {
   "cell_type": "code",
   "execution_count": null,
   "metadata": {},
   "outputs": [],
   "source": [
    "'''\n",
    "with price*quantity as f\n",
    "\n",
    "select toStartOfMonth(purchase_date) as month, \n",
    "    sum(f) as total_price,\n",
    "    count() as cnt,\n",
    "    avg(f) as avg_price,\n",
    "    stddevPop(f) as std_dev_price,\n",
    "    min(f) as min_price,\n",
    "    max(f) as max_price,\n",
    "    quantileExact(0.1)(f) as q10_exact,\n",
    "    quantileExact(0.2)(f) as q20_exact\n",
    "from project_variant_2.purchase\n",
    "where purchase_date between '2020-01-01' and '2020-06-30'\n",
    "group by month\n",
    "'''"
   ]
  },
  {
   "cell_type": "code",
   "execution_count": null,
   "metadata": {},
   "outputs": [],
   "source": [
    "'''\n",
    "with price*quantity as f\n",
    "\n",
    "select toStartOfMonth(purchase_date) as month, \n",
    "    min(f) as min_price,\n",
    "    max(f) as max_price,\n",
    "    argMin(purchase_id ,f) as purchase_min,\n",
    "    argMax(purchase_id ,f) as purchase_max\n",
    "from project_variant_2.purchase\n",
    "where purchase_date between '2020-01-01' and '2020-06-30'\n",
    "group by month\n",
    "'''"
   ]
  },
  {
   "cell_type": "code",
   "execution_count": null,
   "metadata": {},
   "outputs": [],
   "source": [
    "'''\n",
    "select \n",
    "    toYear(birth_date) birth_year,\n",
    "    toMonth(registration) reg_month,\n",
    "    count()\n",
    "\n",
    "from project_variant_2.client\n",
    "group by birth_year, reg_month\n",
    "'''"
   ]
  },
  {
   "cell_type": "code",
   "execution_count": null,
   "metadata": {},
   "outputs": [],
   "source": [
    "'''\n",
    "select toDayOfMonth(time) as day,\n",
    "    sum(action = 'like') likes,\n",
    "    sum(action = 'view') views,\n",
    "    likes/views as ctr\n",
    "from simulator.feed_actions\n",
    "where os = 'Android'\n",
    "    and toDate(time) between '2021-11-01' and '2021-11-30'\n",
    "group by day\n",
    "'''"
   ]
  },
  {
   "cell_type": "code",
   "execution_count": null,
   "metadata": {},
   "outputs": [],
   "source": [
    "'''\n",
    "select \n",
    "    toStartOfMonth(l.purchase_date) as month, \n",
    "    r.city as city,\n",
    "    sum(price*quantity)\n",
    "from project_variant_2.purchase as l\n",
    "left join \n",
    "    (select distinct city_id, city\n",
    "    from project_variant_2.city) as r\n",
    "on l.city_id = r.city_id\n",
    "group by month, city\n",
    "order by month, city\n",
    "'''"
   ]
  },
  {
   "cell_type": "code",
   "execution_count": null,
   "metadata": {},
   "outputs": [],
   "source": [
    "'''\n",
    "select \n",
    "    l.*\n",
    "from project_variant_2.purchase as l\n",
    "inner join \n",
    "    (select *\n",
    "    from project_variant_2.client\n",
    "    where toStartOfMonth(registration) \n",
    "        between '2019-12-01' and '2020-02-01') as r\n",
    "on l.client_id = r.client_id\n",
    "limit 100\n",
    "'''"
   ]
  }
 ],
 "metadata": {
  "kernelspec": {
   "display_name": "Python 3",
   "language": "python",
   "name": "python3"
  },
  "language_info": {
   "codemirror_mode": {
    "name": "ipython",
    "version": 3
   },
   "file_extension": ".py",
   "mimetype": "text/x-python",
   "name": "python",
   "nbconvert_exporter": "python",
   "pygments_lexer": "ipython3",
   "version": "3.8.3"
  }
 },
 "nbformat": 4,
 "nbformat_minor": 4
}
