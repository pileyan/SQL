{
 "cells": [
  {
   "cell_type": "markdown",
   "metadata": {},
   "source": [
    "# Задачки предлагается делать в redash"
   ]
  },
  {
   "cell_type": "markdown",
   "metadata": {},
   "source": [
    "## default.listings \n",
    "\n",
    "таблица описывает объявления на AirBnb (местоположение, страна, оценки в объявлении)\n",
    "\n",
    "Там много полей, но у большинства из них говорящие названия. Если в полях что-то не до конца понятно, задайте вопросы :)\n",
    "\n",
    "Уникальный id объявления так и называется – id"
   ]
  },
  {
   "cell_type": "markdown",
   "metadata": {},
   "source": [
    "## default.reviews \n",
    "\n",
    "таблица содержит тексты отзывов на конкретные объявления на AirBnb (местоположение, страна, оценки в объявлении)\n",
    "\n",
    "Но только здесь id это id **отзыва**, а listing_id - id **объявления** (из default.listings), на которое оставляют отзыв"
   ]
  },
  {
   "cell_type": "markdown",
   "metadata": {},
   "source": [
    "# Задача 1\n",
    "\n",
    "Правда ли, что если в таблице default.reviews у нас нет на объявление ни одного отзыва, то и в default.listings number_of_reviews = 0 (отзывов 0). \n",
    "\n",
    "Ответ да/нет и запрос, с помощью которого вы это нашли"
   ]
  },
  {
   "cell_type": "markdown",
   "metadata": {},
   "source": [
    "# Задача 2\n",
    "\n",
    "Правда ли, что если в таблице default.reviews у нас нет на объявление ни одного отзыва, то и в default.listings reviews_per_month = 0 (отзывов 0). \n",
    "\n",
    "Ответ да/нет и запрос, с помощью которого вы это нашли"
   ]
  }
 ],
 "metadata": {
  "kernelspec": {
   "display_name": "Python 3",
   "language": "python",
   "name": "python3"
  },
  "language_info": {
   "codemirror_mode": {
    "name": "ipython",
    "version": 3
   },
   "file_extension": ".py",
   "mimetype": "text/x-python",
   "name": "python",
   "nbconvert_exporter": "python",
   "pygments_lexer": "ipython3",
   "version": "3.8.3"
  }
 },
 "nbformat": 4,
 "nbformat_minor": 4
}
