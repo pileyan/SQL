{
 "cells": [
  {
   "cell_type": "markdown",
   "metadata": {},
   "source": [
    "# Таблица default.retail\n",
    "\n",
    "* InvoiceNo – уникальный id чека\n",
    "* StockCode – Бог его знает, что это за id, использовать не будем\n",
    "* Description – описание товара\n",
    "* Quantity – уникальный id чека\n",
    "* InvoiceDate – дата-время покупки \n",
    "* UnitPrice – цена единицы товара\n",
    "* CustomerID – уникальный id покупателя\n",
    "* Country – Страна\n",
    "\n",
    "## Задача 1\n",
    "\n",
    "Найти CustomerID, которые за февраль-март купили наибольшее количество товаров (суммарное Quantity) в англоговорящих странах, о которых у нас есть информация. Если, например, в США два покупателя купили по 100 товаров, а остальные меньше – вывести обоих.\n",
    "\n",
    "Ожидаемый ответ:\n",
    "\n",
    "Страна – CustomerID - Кол-во товара, которое он купил за февраль-март\n",
    "\n",
    "## Задача 2\n",
    "\n",
    "Вывести помесячное количество купленных будильников (в описании товара должно быть ALARM, ALARM CLOCK. Может быть еще какое-то обозначение, если найдете, будет круто :))\n",
    "\n",
    "## Задача 3\n",
    "\n",
    "Какой товар (какие товары, если таких с максимальной ценой несколько) в таблице является самым дорогим? Вывести id товаров и их описание.\n",
    "\n",
    "## Задача 4\n",
    "\n",
    "Из какой страны было больше всего покупателей?"
   ]
  },
  {
   "cell_type": "markdown",
   "metadata": {},
   "source": [
    "# Таблица simulator.feed_actions\n",
    "\n",
    "Это про действия пользователя в социальной сети, где есть Лента новостей, в которой можно совершать просмотры постов (событие view) и ставить им лайки ( событие like)\n",
    "\n",
    "* user_id – id пользователя\n",
    "* post_id – id поста\n",
    "* action – действие (просмотр или лайк)\n",
    "* time – дата-время события\n",
    "* gender – пол\n",
    "* age – возраст\n",
    "* country – Страна\n",
    "* city – Город\n",
    "* os – Операционная система\n",
    "* source – Источник трафика (откуда пользователь к нам пришел, например, \"через рекламу\", \"сам по себе\" и тд\n",
    "* exp_group – экспериментальная группа (на пользователях могут проводить эксперименты, например показывать кому-то другой алгоритм рекомендаций постов)\n",
    "\n",
    "# simulator.posts_text\n",
    "\n",
    "* post_id – id поста\n",
    "* text – текст поста\n",
    "* topic – тема поста (политика, развлечения, кино)"
   ]
  },
  {
   "cell_type": "markdown",
   "metadata": {},
   "source": [
    "## Задача 5\n",
    "\n",
    "На занятии мы с вами пытались ответить на вопрос, какие посты (в зависимости от темы) набирают больше просмотров: длинные или короткие.\n",
    "\n",
    "Измените запрос таким образом, чтобы проанализировать зависимость кол-ва просмотров от длины текста поста вне зависимости от темы. Запрос с лекции приведен ниже"
   ]
  },
  {
   "cell_type": "code",
   "execution_count": null,
   "metadata": {},
   "outputs": [],
   "source": [
    "'''\n",
    "select \n",
    "    topic,\n",
    "    case when text_len <= quantile_10_len then 1\n",
    "         when text_len <= quantile_20_len then 2\n",
    "         when text_len <= quantile_30_len then 3\n",
    "         when text_len <= quantile_40_len then 4\n",
    "         when text_len <= quantile_50_len then 5\n",
    "         when text_len <= quantile_60_len then 6\n",
    "         when text_len <= quantile_70_len then 7\n",
    "         when text_len <= quantile_80_len then 8\n",
    "         when text_len <= quantile_90_len then 9\n",
    "    else 10 end as length_bucket,\n",
    "    avg(views) as avg_views\n",
    "    \n",
    "from (select texts.topic as topic,\n",
    "        length(text) as text_len,\n",
    "        post_data.post_id as post_id,\n",
    "        post_data.views as views,\n",
    "        post_data.likes as likes\n",
    "    from simulator.posts_text as texts\n",
    "    left join \n",
    "        (select post_id,\n",
    "            countIf(action = 'view') as views,\n",
    "            countIf(action = 'like') as likes\n",
    "        from simulator.feed_actions\n",
    "        group by post_id) as post_data\n",
    "    on texts.post_id = post_data.post_id) as views_data\n",
    "left join \n",
    "    (select topic,\n",
    "        min(length(text)) as min_len,\n",
    "        quantileExact(0.1)(length(text)) as quantile_10_len,\n",
    "        quantileExact(0.2)(length(text)) as quantile_20_len,\n",
    "        quantileExact(0.3)(length(text)) as quantile_30_len,\n",
    "        quantileExact(0.4)(length(text)) as quantile_40_len,\n",
    "        quantileExact(0.5)(length(text)) as quantile_50_len,\n",
    "        quantileExact(0.6)(length(text)) as quantile_60_len,\n",
    "        quantileExact(0.7)(length(text)) as quantile_70_len,\n",
    "        quantileExact(0.8)(length(text)) as quantile_80_len,\n",
    "        quantileExact(0.9)(length(text)) as quantile_90_len,\n",
    "        max(length(text)) as max_len\n",
    "    from simulator.posts_text\n",
    "    group by topic) as quantile_data\n",
    "using topic\n",
    "group by topic, length_bucket\n",
    "order by topic, length_bucket\n",
    "'''"
   ]
  },
  {
   "cell_type": "markdown",
   "metadata": {},
   "source": [
    "## Задача 6\n",
    "\n",
    "Посты с какой тематикой являются самыми просматриваемыми?"
   ]
  },
  {
   "cell_type": "markdown",
   "metadata": {},
   "source": [
    "## Задача 7\n",
    "\n",
    "На сколько символов в среднем длиннее посты про политику чем посты про спорт?"
   ]
  },
  {
   "cell_type": "markdown",
   "metadata": {},
   "source": [
    "## Задача 8\n",
    "\n",
    "Постройте график конверсии из просмотров в лайки по постам про кино и про бизнес по дням. Можно ли \"на глаз\" сказать, что эти конверсии отличаются?\n",
    "\n",
    "(построить суммарное кол-во лайков/суммарное кол-во просмотров group by "
   ]
  }
 ],
 "metadata": {
  "kernelspec": {
   "display_name": "Python 3",
   "language": "python",
   "name": "python3"
  },
  "language_info": {
   "codemirror_mode": {
    "name": "ipython",
    "version": 3
   },
   "file_extension": ".py",
   "mimetype": "text/x-python",
   "name": "python",
   "nbconvert_exporter": "python",
   "pygments_lexer": "ipython3",
   "version": "3.8.3"
  }
 },
 "nbformat": 4,
 "nbformat_minor": 4
}
